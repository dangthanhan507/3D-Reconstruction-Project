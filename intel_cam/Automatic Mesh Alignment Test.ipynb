{
 "cells": [
  {
   "cell_type": "code",
   "execution_count": 1,
   "id": "b62dbaf0",
   "metadata": {},
   "outputs": [],
   "source": [
    "import cv2\n",
    "import numpy as np;\n",
    "import matplotlib.pyplot as plt;\n",
    "from mpl_toolkits import mplot3d\n",
    "from scipy.spatial import KDTree\n",
    "import scipy\n",
    "%matplotlib inline\n",
    "\n",
    "import trimesh\n",
    "import pyglet\n",
    "from scipy.spatial import Delaunay"
   ]
  },
  {
   "cell_type": "markdown",
   "id": "be3bd6bb",
   "metadata": {},
   "source": [
    "# Trying to get Meshes using Data"
   ]
  },
  {
   "cell_type": "markdown",
   "id": "d1c8bc92",
   "metadata": {},
   "source": [
    "## Fowlke's Code Modified by me"
   ]
  },
  {
   "cell_type": "code",
   "execution_count": 2,
   "id": "f0090789",
   "metadata": {},
   "outputs": [],
   "source": [
    "from camutils import Camera"
   ]
  },
  {
   "cell_type": "code",
   "execution_count": 3,
   "id": "57c749fe",
   "metadata": {},
   "outputs": [],
   "source": [
    "def residuals(pts3,pts2,K,params):\n",
    "    \"\"\" \n",
    "    \"\"\"\n",
    "\n",
    "    r1,r2,r3,t1,t2,t3 = params\n",
    "    R, _ = cv2.Rodrigues( np.array([[r1,r2,r3]]) )\n",
    "    t = np.array([[t1,t2,t3]]).T\n",
    "    pts2_proj = K @ ((R.T @ pts3) - t)\n",
    "    pts2_proj = (pts2_proj / pts2_proj[2,:])[0:2,:]\n",
    "    residual = pts2 - pts2_proj\n",
    "\n",
    "    return residual.flatten()\n",
    "\n",
    "def calibratePose(pts3,pts2,K,R0,t0):\n",
    "    \"\"\"\n",
    "    \"\"\"\n",
    "    rvec,_ = cv2.Rodrigues(R0)\n",
    "    r1,r2,r3 = rvec[:,0]\n",
    "    t1,t2,t3 = t0[:,0]\n",
    "    \n",
    "    params_init = [r1,r2,r3,t1,t2,t3]\n",
    "    # define our error function\n",
    "    efun = lambda params: residuals(pts3,pts2,K,params)\n",
    "    popt,_ = scipy.optimize.leastsq(efun,params_init)\n",
    "    r1,r2,r3,t1,t2,t3 = popt\n",
    "    R,_ = cv2.Rodrigues(np.array([[r1,r2,r3]]))\n",
    "    t = np.array([[t1,t2,t3]]).T\n",
    "    return R,t\n"
   ]
  },
  {
   "cell_type": "markdown",
   "id": "835892ea",
   "metadata": {},
   "source": [
    "### My Aruco Code for pose estimation"
   ]
  },
  {
   "cell_type": "code",
   "execution_count": 5,
   "id": "52c67ea4",
   "metadata": {},
   "outputs": [],
   "source": [
    "class arucoTest:\n",
    "    def __init__(self, frame, intr, dist, depth, markerLength=0.0246153846):\n",
    "        self.arucoPoseDict = {}\n",
    "\n",
    "        self.arucoDict = cv2.aruco.Dictionary_get( cv2.aruco.DICT_6X6_50)\n",
    "        self.arucoParams = cv2.aruco.DetectorParameters_create()\n",
    "\n",
    "        self.markerLength = markerLength\n",
    "\n",
    "        corners, idx, _ = cv2.aruco.detectMarkers(frame, self.arucoDict, parameters=self.arucoParams)\n",
    "        rvecs, tvecs, _ = cv2.aruco.estimatePoseSingleMarkers(corners, self.markerLength, intr, dist)\n",
    "\n",
    "        self.K = intr\n",
    "        self.D = dist\n",
    "        \n",
    "        self.corners0 = corners\n",
    "        self.idx0 = idx\n",
    "        self.frame0 = frame\n",
    "        self.depth0 = depth\n",
    "        for i in range( idx.shape[0] ):\n",
    "            index = idx[i,0]\n",
    "            R,_ = cv2.Rodrigues(rvecs[i])\n",
    "            t = tvecs[i].T\n",
    "            self.arucoPoseDict[index] = (R,t)\n",
    "    def getPose(self, frame):\n",
    "        corners, idx, _ = cv2.aruco.detectMarkers(frame, self.arucoDict, parameters=self.arucoParams)\n",
    "        rvecs, tvecs, _ = cv2.aruco.estimatePoseSingleMarkers(corners, self.markerLength, self.K, self.D)\n",
    "\n",
    "\n",
    "        avgR = np.zeros((3,3))\n",
    "        avgT = np.zeros((3,1))\n",
    "        count = 0\n",
    "\n",
    "        for i in range(idx.shape[0]):\n",
    "            index = idx[i,0]\n",
    "            R1,_ = cv2.Rodrigues(rvecs[i])\n",
    "            t1 = tvecs[i].T\n",
    "\n",
    "            if index in self.arucoPoseDict.keys():\n",
    "                R,t = self.arucoPoseDict[index]\n",
    "                poseR = R @ R1.T\n",
    "                poseT = t - (R @ R1.T) @ t1\n",
    "\n",
    "                avgR += poseR\n",
    "                avgT += poseT\n",
    "                count += 1\n",
    "        if count != 0:\n",
    "            avgR /= count\n",
    "            avgT /= count\n",
    "        return avgR, avgT\n",
    "    def getClouds(self, frame, depth):\n",
    "        corners, idx, _ = cv2.aruco.detectMarkers(frame, self.arucoDict, parameters=self.arucoParams)\n",
    "        \n",
    "\n",
    "        indexes, corrFrame, corrFrame0 = np.intersect1d( idx[:,0], self.idx0[:,0] , return_indices= True)\n",
    "        #assumes there are matches\n",
    "        pts2 = corners[ corrFrame[0] ][0].T\n",
    "        pts2_0 = self.corners0[ corrFrame0[0] ][0].T\n",
    "        \n",
    "        for i in range(indexes.shape[0]):\n",
    "            #corners[i] is of shape (1,4,2)\n",
    "            pts2 = np.hstack((pts2, corners[ corrFrame[i] ][0].T))\n",
    "            pts2_0 = np.hstack((pts2_0, self.corners0[ corrFrame0[i] ][0].T))\n",
    "        \n",
    "        pts3_0 = self.triangulate(pts2_0,self.depth0)\n",
    "        \n",
    "        return pts2, pts3_0\n",
    "    def triangulate(self, pts2, depth):\n",
    "        indexes = np.uint8(pts2)\n",
    "        pts3 = np.zeros((3,pts2.shape[1]),dtype=np.float32)\n",
    "        for i in range(indexes.shape[1]):\n",
    "            y,x = indexes[:,i]\n",
    "            z = depth[y,x]\n",
    "            x3 = (x - K[0,2]) * z / K[0,0]\n",
    "            y3 = (y - K[1,2]) * z / K[1,1]\n",
    "            pts3[:,i] = np.array([x3,y3,z])\n",
    "        return pts3\n",
    "    def updateEstimate(self, pts2, pts3, R,t):\n",
    "        cam1 = Camera(K[0,0], c=np.array([[K[0,2],K[1,2]]]), R=R,t=t )\n",
    "        Rf,tf = calibratePose(pts3,pts2,self.K,R,t)\n",
    "        return Rf,tf"
   ]
  },
  {
   "cell_type": "markdown",
   "id": "75415b67",
   "metadata": {},
   "source": [
    "## My triangulation code"
   ]
  },
  {
   "cell_type": "code",
   "execution_count": 6,
   "id": "d9be60c0",
   "metadata": {},
   "outputs": [],
   "source": [
    "def triangulate(depth_map, fx = 5, fy = 5):\n",
    "    h,w = depth_map.shape\n",
    "    xx,yy = np.meshgrid(np.arange(w), np.arange(h))\n",
    "    mask = (depth_map > 0)\n",
    "\n",
    "    proj_x = (xx[mask] - w/2) * depth_map[mask] / fx\n",
    "    proj_y = (yy[mask] - h/2) * depth_map[mask] / fy\n",
    "\n",
    "    return np.vstack((proj_x.flatten(), proj_y.flatten(), depth_map[mask].flatten())), mask"
   ]
  },
  {
   "cell_type": "markdown",
   "id": "bcf11c24",
   "metadata": {},
   "source": [
    "## Stuff"
   ]
  },
  {
   "cell_type": "code",
   "execution_count": 7,
   "id": "09a510d5",
   "metadata": {},
   "outputs": [],
   "source": [
    "def create_output(vertices, colors, filename):\n",
    "\tvertices = np.hstack([vertices,colors])\n",
    "\n",
    "\tply_header = '''ply\n",
    "\t\tformat ascii 1.0\n",
    "\t\telement vertex %(vert_num)d\n",
    "\t\tproperty float x\n",
    "\t\tproperty float y\n",
    "\t\tproperty float z\n",
    "\t\tproperty uchar red\n",
    "\t\tproperty uchar green\n",
    "\t\tproperty uchar blue\n",
    "\t\tend_header\n",
    "\t\t'''\n",
    "\twith open(filename, 'w') as f:\n",
    "\t\tf.write(ply_header %dict(vert_num=len(vertices)))\n",
    "\t\tnp.savetxt(f,vertices,'%f %f %f %d %d %d')"
   ]
  },
  {
   "cell_type": "markdown",
   "id": "391a60a7",
   "metadata": {},
   "source": [
    "## Getting to the code"
   ]
  },
  {
   "cell_type": "code",
   "execution_count": 8,
   "id": "b22f6260",
   "metadata": {},
   "outputs": [],
   "source": [
    "with open('testdata.npy', 'rb') as f:\n",
    "    im0 = np.load(f)\n",
    "    d0 = np.load(f)\n",
    "    \n",
    "    im1= np.load(f)\n",
    "    d1= np.load(f)\n",
    "    \n",
    "    im2= np.load(f)\n",
    "    d2= np.load(f)\n",
    "    \n",
    "    im3= np.load(f)\n",
    "    d3= np.load(f)\n",
    "    \n",
    "    im4= np.load(f)\n",
    "    d4= np.load(f)\n",
    "    \n",
    "    im5= np.load(f)\n",
    "    d5= np.load(f)\n",
    "    \n",
    "with open('../calibration/intrinsics.npy', 'rb') as f:\n",
    "    K = np.load(f)\n",
    "    dist = np.load(f)"
   ]
  },
  {
   "cell_type": "code",
   "execution_count": 9,
   "id": "14f54086",
   "metadata": {},
   "outputs": [],
   "source": [
    "pts3_0,mask0 = triangulate(d0, K[0,0], K[1,1])\n",
    "pts3_1,mask1 = triangulate(d1, K[0,0], K[1,1])\n",
    "pts3_2,mask2 = triangulate(d2, K[0,0], K[1,1])\n",
    "\n",
    "aruco = arucoTest(im0, K, dist, d0, 0.04445 / 0.0002500000118743628)\n",
    "R1,t1 = aruco.getPose(im1)\n",
    "R2,t2 = aruco.getPose(im2)\n",
    "\n",
    "pts3_1t = R1 @ pts3_1 + t1\n",
    "pts3_2t = R2 @ pts3_2 + t2"
   ]
  },
  {
   "cell_type": "code",
   "execution_count": 10,
   "id": "e02b34c3",
   "metadata": {},
   "outputs": [],
   "source": [
    "colormap0 = im0[:,:,::-1][mask0].reshape(-1,3)\n",
    "colormap1 = im1[:,:,::-1][mask1].reshape(-1,3)\n",
    "colormap2 = im2[:,:,::-1][mask2].reshape(-1,3)"
   ]
  },
  {
   "cell_type": "code",
   "execution_count": 11,
   "id": "a2b7d7fb",
   "metadata": {},
   "outputs": [],
   "source": [
    "pts3s = np.hstack((pts3_0,pts3_1t))\n",
    "colormaps = np.vstack((colormap0,colormap1))\n",
    "create_output(pts3s.T,colormaps,'beforeAlign.ply')"
   ]
  },
  {
   "cell_type": "code",
   "execution_count": 12,
   "id": "b465221c",
   "metadata": {
    "scrolled": false
   },
   "outputs": [],
   "source": [
    "pts2, pts3 = aruco.getClouds(im1,d1)"
   ]
  },
  {
   "cell_type": "code",
   "execution_count": 13,
   "id": "54f8ec98",
   "metadata": {},
   "outputs": [],
   "source": [
    "R1_,t1_ = aruco.updateEstimate(pts2,pts3,R1,t1)"
   ]
  },
  {
   "cell_type": "code",
   "execution_count": 15,
   "id": "01d9d8d9",
   "metadata": {},
   "outputs": [],
   "source": [
    "pts3_1t = R1_ @ pts3_1 + t1_"
   ]
  },
  {
   "cell_type": "code",
   "execution_count": 16,
   "id": "42658e8d",
   "metadata": {},
   "outputs": [],
   "source": [
    "pts3s = np.hstack((pts3_0,pts3_1t))\n",
    "colormaps = np.vstack((colormap0,colormap1))\n",
    "create_output(pts3s.T,colormaps,'afterAlign.ply')"
   ]
  }
 ],
 "metadata": {
  "kernelspec": {
   "display_name": "Python 3 (ipykernel)",
   "language": "python",
   "name": "python3"
  },
  "language_info": {
   "codemirror_mode": {
    "name": "ipython",
    "version": 3
   },
   "file_extension": ".py",
   "mimetype": "text/x-python",
   "name": "python",
   "nbconvert_exporter": "python",
   "pygments_lexer": "ipython3",
   "version": "3.8.10"
  }
 },
 "nbformat": 4,
 "nbformat_minor": 5
}
